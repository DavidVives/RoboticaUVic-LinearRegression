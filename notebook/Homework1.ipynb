{
 "metadata": {
  "kernelspec": {
   "display_name": "Python 2",
   "language": "python",
   "name": "python2"
  },
  "language_info": {
   "codemirror_mode": {
    "name": "ipython",
    "version": 2
   },
   "file_extension": ".py",
   "mimetype": "text/x-python",
   "name": "python",
   "nbconvert_exporter": "python",
   "pygments_lexer": "ipython2",
   "version": "2.7.14"
  },
  "name": "",
  "signature": "sha256:2f0bb01b8d3d701913a658af326305af2ed7819bda92428e7299f8c3051aa0c9"
 },
 "nbformat": 3,
 "nbformat_minor": 0,
 "worksheets": [
  {
   "cells": [
    {
     "cell_type": "code",
     "collapsed": false,
     "input": [
      "import numpy as np\n",
      "data = np.array([map(float, l.split()) for l in open('housing.data')])\n",
      "y = data[:,-1]\n",
      "print 'Data points', len(y)\n",
      "print 'Names', len(y)\n",
      "print 'Data',len (y)\n",
      "print y.T\n",
      "meany=np.mean (y)                            "
     ],
     "language": "python",
     "metadata": {},
     "outputs": [
      {
       "output_type": "stream",
       "stream": "stdout",
       "text": [
        "Data points 506\n",
        "Names 506\n",
        "Data 506\n",
        "[ 24.   21.6  34.7  33.4  36.2  28.7  22.9  27.1  16.5  18.9  15.   18.9\n",
        "  21.7  20.4  18.2  19.9  23.1  17.5  20.2  18.2  13.6  19.6  15.2  14.5\n",
        "  15.6  13.9  16.6  14.8  18.4  21.   12.7  14.5  13.2  13.1  13.5  18.9\n",
        "  20.   21.   24.7  30.8  34.9  26.6  25.3  24.7  21.2  19.3  20.   16.6\n",
        "  14.4  19.4  19.7  20.5  25.   23.4  18.9  35.4  24.7  31.6  23.3  19.6\n",
        "  18.7  16.   22.2  25.   33.   23.5  19.4  22.   17.4  20.9  24.2  21.7\n",
        "  22.8  23.4  24.1  21.4  20.   20.8  21.2  20.3  28.   23.9  24.8  22.9\n",
        "  23.9  26.6  22.5  22.2  23.6  28.7  22.6  22.   22.9  25.   20.6  28.4\n",
        "  21.4  38.7  43.8  33.2  27.5  26.5  18.6  19.3  20.1  19.5  19.5  20.4\n",
        "  19.8  19.4  21.7  22.8  18.8  18.7  18.5  18.3  21.2  19.2  20.4  19.3\n",
        "  22.   20.3  20.5  17.3  18.8  21.4  15.7  16.2  18.   14.3  19.2  19.6\n",
        "  23.   18.4  15.6  18.1  17.4  17.1  13.3  17.8  14.   14.4  13.4  15.6\n",
        "  11.8  13.8  15.6  14.6  17.8  15.4  21.5  19.6  15.3  19.4  17.   15.6\n",
        "  13.1  41.3  24.3  23.3  27.   50.   50.   50.   22.7  25.   50.   23.8\n",
        "  23.8  22.3  17.4  19.1  23.1  23.6  22.6  29.4  23.2  24.6  29.9  37.2\n",
        "  39.8  36.2  37.9  32.5  26.4  29.6  50.   32.   29.8  34.9  37.   30.5\n",
        "  36.4  31.1  29.1  50.   33.3  30.3  34.6  34.9  32.9  24.1  42.3  48.5\n",
        "  50.   22.6  24.4  22.5  24.4  20.   21.7  19.3  22.4  28.1  23.7  25.\n",
        "  23.3  28.7  21.5  23.   26.7  21.7  27.5  30.1  44.8  50.   37.6  31.6\n",
        "  46.7  31.5  24.3  31.7  41.7  48.3  29.   24.   25.1  31.5  23.7  23.3\n",
        "  22.   20.1  22.2  23.7  17.6  18.5  24.3  20.5  24.5  26.2  24.4  24.8\n",
        "  29.6  42.8  21.9  20.9  44.   50.   36.   30.1  33.8  43.1  48.8  31.\n",
        "  36.5  22.8  30.7  50.   43.5  20.7  21.1  25.2  24.4  35.2  32.4  32.\n",
        "  33.2  33.1  29.1  35.1  45.4  35.4  46.   50.   32.2  22.   20.1  23.2\n",
        "  22.3  24.8  28.5  37.3  27.9  23.9  21.7  28.6  27.1  20.3  22.5  29.\n",
        "  24.8  22.   26.4  33.1  36.1  28.4  33.4  28.2  22.8  20.3  16.1  22.1\n",
        "  19.4  21.6  23.8  16.2  17.8  19.8  23.1  21.   23.8  23.1  20.4  18.5\n",
        "  25.   24.6  23.   22.2  19.3  22.6  19.8  17.1  19.4  22.2  20.7  21.1\n",
        "  19.5  18.5  20.6  19.   18.7  32.7  16.5  23.9  31.2  17.5  17.2  23.1\n",
        "  24.5  26.6  22.9  24.1  18.6  30.1  18.2  20.6  17.8  21.7  22.7  22.6\n",
        "  25.   19.9  20.8  16.8  21.9  27.5  21.9  23.1  50.   50.   50.   50.\n",
        "  50.   13.8  13.8  15.   13.9  13.3  13.1  10.2  10.4  10.9  11.3  12.3\n",
        "   8.8   7.2  10.5   7.4  10.2  11.5  15.1  23.2   9.7  13.8  12.7  13.1\n",
        "  12.5   8.5   5.    6.3   5.6   7.2  12.1   8.3   8.5   5.   11.9  27.9\n",
        "  17.2  27.5  15.   17.2  17.9  16.3   7.    7.2   7.5  10.4   8.8   8.4\n",
        "  16.7  14.2  20.8  13.4  11.7   8.3  10.2  10.9  11.    9.5  14.5  14.1\n",
        "  16.1  14.3  11.7  13.4   9.6   8.7   8.4  12.8  10.5  17.1  18.4  15.4\n",
        "  10.8  11.8  14.9  12.6  14.1  13.   13.4  15.2  16.1  17.8  14.9  14.1\n",
        "  12.7  13.5  14.9  20.   16.4  17.7  19.5  20.2  21.4  19.9  19.   19.1\n",
        "  19.1  20.1  19.9  19.6  23.2  29.8  13.8  13.3  16.7  12.   14.6  21.4\n",
        "  23.   23.7  25.   21.8  20.6  21.2  19.1  20.6  15.2   7.    8.1  13.6\n",
        "  20.1  21.8  24.5  23.1  19.7  18.3  21.2  17.5  16.8  22.4  20.6  23.9\n",
        "  22.   11.9]\n"
       ]
      }
     ],
     "prompt_number": 56
    },
    {
     "cell_type": "markdown",
     "metadata": {},
     "source": [
      "Q1- En aqui hem carregat el housing data i l'hi hem dit que printi names i data"
     ]
    },
    {
     "cell_type": "code",
     "collapsed": false,
     "input": [
      "!cat data_housing.names\n",
      "\n",
      "def MSE (pred, y):\n",
      "    return sum((y-pred)**2) / len(y)\n",
      "print MSE (meany, y), \"Aixo es el MSE de la predicci\u00f3 utilitzant la mitja\"\n",
      "\n",
      "print \"Q2 - En aqui carreguem les dades de data_housing\" "
     ],
     "language": "python",
     "metadata": {},
     "outputs": [
      {
       "output_type": "stream",
       "stream": "stdout",
       "text": [
        "1. Title: Boston Housing Data\r\n",
        "\r\n",
        "2. Sources:\r\n",
        "   (a) Origin:  This dataset was taken from the StatLib library which is\r\n",
        "                maintained at Carnegie Mellon University.\r\n",
        "   (b) Creator:  Harrison, D. and Rubinfeld, D.L. 'Hedonic prices and the \r\n",
        "                 demand for clean air', J. Environ. Economics & Management,\r\n",
        "                 vol.5, 81-102, 1978.\r\n",
        "   (c) Date: July 7, 1993\r\n",
        "\r\n",
        "3. Past Usage:\r\n",
        "   -   Used in Belsley, Kuh & Welsch, 'Regression diagnostics ...', Wiley, \r\n",
        "       1980.   N.B. Various transformations are used in the table on\r\n",
        "       pages 244-261.\r\n",
        "    -  Quinlan,R. (1993). Combining Instance-Based and Model-Based Learning.\r\n",
        "       In Proceedings on the Tenth International Conference of Machine \r\n",
        "       Learning, 236-243, University of Massachusetts, Amherst. Morgan\r\n",
        "       Kaufmann.\r\n",
        "\r\n",
        "4. Relevant Information:\r\n",
        "\r\n",
        "   Concerns housing values in suburbs of Boston.\r\n",
        "\r\n",
        "5. Number of Instances: 506\r\n",
        "\r\n",
        "6. Number of Attributes: 13 continuous attributes (including \"class\"\r\n",
        "                         attribute \"MEDV\"), 1 binary-valued attribute.\r\n",
        "\r\n",
        "7. Attribute Information:\r\n",
        "\r\n",
        "    1. CRIM      per capita crime rate by town\r\n",
        "    2. ZN        proportion of residential land zoned for lots over \r\n",
        "                 25,000 sq.ft.\r\n",
        "    3. INDUS     proportion of non-retail business acres per town\r\n",
        "    4. CHAS      Charles River dummy variable (= 1 if tract bounds \r\n",
        "                 river; 0 otherwise)\r\n",
        "    5. NOX       nitric oxides concentration (parts per 10 million)\r\n",
        "    6. RM        average number of rooms per dwelling\r\n",
        "    7. AGE       proportion of owner-occupied units built prior to 1940\r\n",
        "    8. DIS       weighted distances to five Boston employment centres\r\n",
        "    9. RAD       index of accessibility to radial highways\r\n",
        "    10. TAX      full-value property-tax rate per $10,000\r\n",
        "    11. PTRATIO  pupil-teacher ratio by town\r\n",
        "    12. B        1000(Bk - 0.63)^2 where Bk is the proportion of blacks \r\n",
        "                 by town\r\n",
        "    13. LSTAT    % lower status of the population\r\n",
        "    14. MEDV     Median value of owner-occupied homes in $1000's\r\n",
        "\r\n",
        "8. Missing Attribute Values:  None.\r\n",
        "\r\n",
        "\r\n",
        "\r\n"
       ]
      },
      {
       "output_type": "stream",
       "stream": "stdout",
       "text": [
        "84.4195561562 Aixo es el MSE de la predicci\u00f3 utilitzant la mitja\n",
        "Q2 - En aqui carreguem les dades de data_housing\n"
       ]
      }
     ],
     "prompt_number": 53
    },
    {
     "cell_type": "code",
     "collapsed": false,
     "input": [
      "data= data[:,:-1]\n",
      "n= data.shape [0]/2\n",
      "datatrain=data [:n,:]\n",
      "datatest=data [n:,:]\n",
      "dot = np.dot\n",
      "inv = np.linalg.inv\n",
      "\n",
      "for i in range(0,data.shape [1]):\n",
      "    #linear regressor\n",
      "    column = datatrain[:,i:i+1] \n",
      "    #afegim bias\n",
      "    column = np.hstack ((np.ones((n,1)),column))\n",
      "   \n",
      "    # Fitting the parameters: theta = (X'*X)^-1*X'*y\n",
      "    theta = dot(dot(inv(dot(column.T, column)), column.T), y[:n]) \n",
      "    #definim la variable\n",
      "    pred_train= dot(theta, column.T)\n",
      "    \n",
      "    #definim la variable\n",
      "    column = datatest[:,i:i+1] \n",
      "    #afegim bias\n",
      "    column = np.hstack ((np.ones((n,1)),column))\n",
      "    pred_test= dot(theta, column.T)\n",
      "    \n",
      "    print \"train\", MSE (pred_train, y[:n]), \"test\", MSE (pred_test, y[n:])\n",
      "print \"La variable aporta mes informaci\u00f3 es la tercera iteraci\u00f3, la mateixa tercera iteracio i la pitjor la primera iteracio\"\n",
      "\n"
     ],
     "language": "python",
     "metadata": {},
     "outputs": [
      {
       "output_type": "stream",
       "stream": "stdout",
       "text": [
        "train 65.7733954044 test 873.516873624\n",
        "train 62.1848641294 test 91.9337946648\n",
        "train 60.2029462983 test 74.746111966\n",
        "train 69.2403754686 test 105.203523044\n",
        "train 61.5452790564 test 80.1601262255\n",
        "train 15.9351479206 test 78.0556344253\n",
        "train 61.4274959173 test 88.9553607233\n",
        "train 68.0006230798 test 97.4632421909\n",
        "train 69.1493593766 test 144.90523085\n",
        "La variable aporta mes informaci\u00f3 es \n"
       ]
      }
     ],
     "prompt_number": 61
    },
    {
     "cell_type": "code",
     "collapsed": false,
     "input": [
      "# First define some handy shortcuts \n",
      "dot = np.dot\n",
      "inv = np.linalg.inv\n",
      "# Dummy features\n",
      "X = np.ones((len (y),1))\n",
      "# Fitting the parameters: theta = (X'*X)^-1*X'*y\n",
      "theta = dot(dot(inv(dot(X.T, X)), X.T), y)\n",
      "print theta"
     ],
     "language": "python",
     "metadata": {
      "scrolled": false
     },
     "outputs": [
      {
       "output_type": "stream",
       "stream": "stdout",
       "text": [
        "[ 22.53280632]\n"
       ]
      }
     ],
     "prompt_number": 52
    },
    {
     "cell_type": "code",
     "collapsed": false,
     "input": [
      "# MSE = (1/N)*sum((y-X*theta)^2) \n",
      "print sum((y-dot(X, theta))**2) / len(y)"
     ],
     "language": "python",
     "metadata": {},
     "outputs": [
      {
       "output_type": "stream",
       "stream": "stdout",
       "text": [
        "84.4195561562\n"
       ]
      }
     ],
     "prompt_number": 4
    },
    {
     "cell_type": "code",
     "collapsed": true,
     "input": [
      "print \"# Q6\"\n",
      "def function(y, theta, X, landa ):\n",
      "    return (sum((dot(X, theta)-y)**2) / len(y) + landa*(abs(sum(theta**2)))**(1/2))\n",
      "    \n",
      "    \n",
      "def functionderiv(y, theta, X, landa ):\n",
      "    return ((sum((dot(dot(X.T,X),theta)-dot(X.T,y))**2)**(1/2))*(2/len(y))+2*landa*sum(theta))"
     ],
     "language": "python",
     "metadata": {},
     "outputs": [
      {
       "output_type": "stream",
       "stream": "stdout",
       "text": [
        "# Q6\n"
       ]
      }
     ],
     "prompt_number": 6
    },
    {
     "cell_type": "code",
     "collapsed": false,
     "input": [
      "print \"# Q1, Q2, Q3\"\n",
      "import numpy\n",
      "data = numpy.array([map(float, l.split()) for l in open('../housing.data')])\n",
      "data=numpy.loadtxt('../housing.data')\n",
      "\n",
      "#separem \u00faltima columna\n",
      "y = data[:,-1]\n",
      "mitjaY= numpy.mean(y)\n",
      "var=sum((mitjaY-y)**2) / len(y)\n",
      "print \"Mitja:\", mitjaY\n",
      "print \"Varian\u00e7a general: \", var\n",
      "MSE= sum((y-mitjaY)**2) / len(y)\n",
      "print \"MSE amb la mitja com a model: \", MSE\n",
      "#Partim les dades\n",
      "trainingData = data[0:len(y)/2,:]\n",
      "yTraining= trainingData[:,-1]\n",
      "testingData =data[len(y)/2:,:]\n",
      "yTesting= testingData[:,-1]\n",
      "dot = numpy.dot\n",
      "inv = numpy.linalg.inv\n",
      "\n",
      "alf= 0.00000001\n",
      "for i in range(0, len(trainingData[1,:])-1):\n",
      "    X=trainingData[:,i:i+1]\n",
      "    theta = dot(dot(inv(dot(X.T, X)), X.T), yTraining)\n",
      "    MSEtraining= sum((yTraining-dot(X, theta))**2) / len(yTraining) \n",
      "    X=testingData[:,i:i+1]\n",
      "    MSEtesting= sum((yTesting-dot(X, theta))**2) / len(yTesting)\n",
      "    R2=1-(MSEtesting/var)\n",
      "    print \"----------------------------------------------------------------\"\n",
      "    print \"theta per la columna \",i, \": \", theta\n",
      "    print \"MSE training: \",MSEtraining\n",
      "    print \"MSE testing: \", MSEtesting\n",
      "    print \"R^2 de testing: \", R2\n",
      "\n",
      "print \"----------------------------------------------------------------\"\n",
      "print \"La millor columna la 5 (comptant que la primera es la 0) i la pitjor \u00e9s la 0 doncs te el major error. \"\n",
      "print \"Es la que ens genera menys error per si sola i per tant per separa mes informativa \"   \n",
      "    \n",
      "    \n",
      "#Incluir totes les columnes\n",
      "X=trainingData\n",
      "theta = dot(dot(inv(dot(X.T, X)), X.T), yTraining)\n",
      "MSEtraining= sum((yTraining-dot(X, theta))**2) / len(yTraining)+ alf*(abs(sum(theta**2)))**(1/2)\n",
      "X=testingData\n",
      "MSEtesting= sum((yTesting-dot(X, theta))**2) / len(yTesting)+alf*(abs(sum(theta**2)))**(1/2)\n",
      "R2=1-(MSEtesting/var)"
     ],
     "language": "python",
     "metadata": {},
     "outputs": [
      {
       "output_type": "stream",
       "stream": "stdout",
       "text": [
        "# Q1, Q2, Q3\n",
        "Mitja: 22.5328063241\n",
        "Varian\u00e7a general:  84.4195561562\n",
        "MSE amb la mitja com a model:  84.4195561562\n",
        "----------------------------------------------------------------\n",
        "theta per la columna  0 :  [ 13.88179641]\n",
        "MSE training:  518.514938751\n",
        "MSE testing:  31338.1375459\n",
        "R^2 de testing:  -370.218932826\n",
        "----------------------------------------------------------------\n",
        "theta per la columna  1 :  [ 0.49766553]\n",
        "MSE training:  491.753459567\n",
        "MSE testing:  362.084782648\n",
        "R^2 de testing:  -3.28911023861\n",
        "----------------------------------------------------------------\n",
        "theta per la columna  2 :  [ 1.57680448]\n",
        "MSE training:  327.188320567\n",
        "MSE testing:  316.790342379\n",
        "R^2 de testing:  -2.75257057492\n",
        "----------------------------------------------------------------\n",
        "theta per la columna  3 :  [ 24.695]\n",
        "MSE training:  611.899365613\n",
        "MSE testing:  462.440712945\n",
        "R^2 de testing:  -4.47788609655\n",
        "----------------------------------------------------------------\n",
        "theta per la columna  4 :  [ 43.61042303]\n",
        "MSE training:  121.455237617\n",
        "MSE testing:  183.139862176\n",
        "R^2 de testing:  -1.16940091271\n",
        "----------------------------------------------------------------\n",
        "theta per la columna  5 :  [ 3.91687679]\n",
        "MSE training:  38.331763967\n",
        "MSE testing:  84.0437166839\n",
        "R^2 de testing:  0.00445204274206\n",
        "----------------------------------------------------------------\n",
        "theta per la columna  6 :  [ 0.29484599]\n",
        "MSE training:  212.85440046\n",
        "MSE testing:  219.053007218\n",
        "R^2 de testing:  -1.59481353838\n",
        "----------------------------------------------------------------\n",
        "theta per la columna  7 :  [ 4.93492624]\n",
        "MSE training:  151.662797788\n",
        "MSE testing:  166.310398327\n",
        "R^2 de testing:  -0.970045874439\n",
        "----------------------------------------------------------------\n",
        "theta per la columna  8 :  [ 4.74328233]\n",
        "MSE training:  131.254818692\n",
        "MSE testing:  5057.36533041\n",
        "R^2 de testing:  -58.907509121\n",
        "----------------------------------------------------------------\n",
        "theta per la columna  9 :  [ 0.07102965]\n",
        "MSE training:  115.742622375\n",
        "MSE testing:  628.651222051\n",
        "R^2 de testing:  -6.44674872358\n",
        "----------------------------------------------------------------\n",
        "theta per la columna  10 :  [ 1.31700698]\n",
        "MSE training:  95.3161569864\n",
        "MSE testing:  149.196920988\n",
        "R^2 de testing:  -0.767326526947\n",
        "----------------------------------------------------------------\n",
        "theta per la columna  11 :  [ 0.06414895]\n",
        "MSE training:  67.4963702254\n",
        "MSE testing:  98.342879513\n",
        "R^2 de testing:  -0.1649300706\n",
        "----------------------------------------------------------------\n",
        "theta per la columna  12 :  [ 1.40374309]\n",
        "MSE training:  324.986992269\n",
        "MSE testing:  361.44658956\n",
        "R^2 de testing:  -3.28155046079\n",
        "----------------------------------------------------------------\n",
        "La millor columna la 5 (comptant que la primera es la 0) i la pitjor \u00e9s la 0 doncs te el major error. \n",
        "Es la que ens genera menys error per si sola i per tant per separa mes informativa \n"
       ]
      }
     ],
     "prompt_number": 7
    },
    {
     "cell_type": "code",
     "collapsed": false,
     "input": [
      "print \"# Q4:\"\n",
      "print \"Theta incloent totes les files: \", theta\n",
      "print \"MSE training: \",MSEtraining\n",
      "print \"MSE testing: \", MSEtesting\n",
      "print \"R^2 de testing: \", R2\n",
      "print \"Obtenim un predictor perfecte\"\n",
      "\n",
      "X=trainingData[:,1:-1]\n",
      "theta = dot(dot(inv(dot(X.T, X)), X.T), yTraining)\n",
      "MSEtraining= sum((yTraining-dot(X, theta))**2) / len(yTraining)+ alf*(abs(sum(theta**2)))**(1/2)\n",
      "X=testingData[:,1:-1]\n",
      "MSEtesting= sum((yTesting-dot(X, theta))**2) / len(yTesting)+alf*(abs(sum(theta**2)))**(1/2)\n",
      "R2=1-(MSEtesting/var)\n",
      "print \" \"\n",
      "print \"Theta obviant la primera: \", theta\n",
      "print \"MSE training: \",MSEtraining\n",
      "print \"MSE testing: \", MSEtesting\n",
      "print \"R^2 de testing: \", R2\n",
      "print \"El predictor empitjora molt\u00edssim\""
     ],
     "language": "python",
     "metadata": {},
     "outputs": [
      {
       "output_type": "stream",
       "stream": "stdout",
       "text": [
        "# Q4:\n",
        "Theta incloent totes les files:  [ -8.60631011e-13   2.54976595e-13  -5.39672473e-13  -1.89735380e-12\n",
        "   1.10006448e-11   1.63258296e-13  -5.27269201e-15   2.00395256e-14\n",
        "  -1.75831572e-14  -8.52725009e-16  -8.97597968e-14  -5.22151766e-16\n",
        "  -1.72830500e-14   1.00000000e+00]\n",
        "MSE training:  1e-08\n",
        "MSE testing:  1e-08\n",
        "R^2 de testing:  0.999999999882\n",
        "Obtenim un predictor perfecte\n",
        " \n",
        "Theta obviant la primera:  [ 0.02275872  0.02125029  0.31450344 -7.92108385  8.30514556 -0.04387323\n",
        " -1.19994513  0.22982007 -0.01592463 -0.83662564  0.01027897 -0.13901636]\n",
        "MSE training:  10.3787898767\n",
        "MSE testing:  47.219916808\n",
        "R^2 de testing:  0.440651918133\n",
        "El predictor empitjora molt\u00edssim\n"
       ]
      }
     ],
     "prompt_number": 8
    },
    {
     "cell_type": "code",
     "collapsed": false,
     "input": [],
     "language": "python",
     "metadata": {},
     "outputs": []
    }
   ],
   "metadata": {}
  }
 ]
}